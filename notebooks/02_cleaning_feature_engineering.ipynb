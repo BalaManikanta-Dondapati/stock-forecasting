{
 "cells": [
  {
   "cell_type": "code",
   "execution_count": 1,
   "id": "d6a6be08",
   "metadata": {},
   "outputs": [
    {
     "name": "stdout",
     "output_type": "stream",
     "text": [
      "(2517, 6)\n",
      "<class 'pandas.core.frame.DataFrame'>\n",
      "RangeIndex: 2517 entries, 0 to 2516\n",
      "Data columns (total 6 columns):\n",
      " #   Column  Non-Null Count  Dtype \n",
      "---  ------  --------------  ----- \n",
      " 0   Date    2516 non-null   object\n",
      " 1   Close   2517 non-null   object\n",
      " 2   High    2517 non-null   object\n",
      " 3   Low     2517 non-null   object\n",
      " 4   Open    2517 non-null   object\n",
      " 5   Volume  2517 non-null   object\n",
      "dtypes: object(6)\n",
      "memory usage: 118.1+ KB\n",
      "None\n"
     ]
    },
    {
     "data": {
      "text/html": [
       "<div>\n",
       "<style scoped>\n",
       "    .dataframe tbody tr th:only-of-type {\n",
       "        vertical-align: middle;\n",
       "    }\n",
       "\n",
       "    .dataframe tbody tr th {\n",
       "        vertical-align: top;\n",
       "    }\n",
       "\n",
       "    .dataframe thead th {\n",
       "        text-align: right;\n",
       "    }\n",
       "</style>\n",
       "<table border=\"1\" class=\"dataframe\">\n",
       "  <thead>\n",
       "    <tr style=\"text-align: right;\">\n",
       "      <th></th>\n",
       "      <th>Date</th>\n",
       "      <th>Close</th>\n",
       "      <th>High</th>\n",
       "      <th>Low</th>\n",
       "      <th>Open</th>\n",
       "      <th>Volume</th>\n",
       "    </tr>\n",
       "  </thead>\n",
       "  <tbody>\n",
       "    <tr>\n",
       "      <th>0</th>\n",
       "      <td>NaN</td>\n",
       "      <td>AAPL</td>\n",
       "      <td>AAPL</td>\n",
       "      <td>AAPL</td>\n",
       "      <td>AAPL</td>\n",
       "      <td>AAPL</td>\n",
       "    </tr>\n",
       "    <tr>\n",
       "      <th>1</th>\n",
       "      <td>2015-01-02</td>\n",
       "      <td>24.261049270629883</td>\n",
       "      <td>24.729272337596463</td>\n",
       "      <td>23.82167345251905</td>\n",
       "      <td>24.71817633026032</td>\n",
       "      <td>212818400</td>\n",
       "    </tr>\n",
       "    <tr>\n",
       "      <th>2</th>\n",
       "      <td>2015-01-05</td>\n",
       "      <td>23.57756996154785</td>\n",
       "      <td>24.110145998105324</td>\n",
       "      <td>23.391169279909636</td>\n",
       "      <td>24.030259507971074</td>\n",
       "      <td>257142000</td>\n",
       "    </tr>\n",
       "    <tr>\n",
       "      <th>3</th>\n",
       "      <td>2015-01-06</td>\n",
       "      <td>23.57979393005371</td>\n",
       "      <td>23.83942422525078</td>\n",
       "      <td>23.218085117057225</td>\n",
       "      <td>23.641927502270494</td>\n",
       "      <td>263188400</td>\n",
       "    </tr>\n",
       "    <tr>\n",
       "      <th>4</th>\n",
       "      <td>2015-01-07</td>\n",
       "      <td>23.910430908203125</td>\n",
       "      <td>24.010288179106578</td>\n",
       "      <td>23.677428352078227</td>\n",
       "      <td>23.788381627754344</td>\n",
       "      <td>160423600</td>\n",
       "    </tr>\n",
       "  </tbody>\n",
       "</table>\n",
       "</div>"
      ],
      "text/plain": [
       "         Date               Close                High                 Low  \\\n",
       "0         NaN                AAPL                AAPL                AAPL   \n",
       "1  2015-01-02  24.261049270629883  24.729272337596463   23.82167345251905   \n",
       "2  2015-01-05   23.57756996154785  24.110145998105324  23.391169279909636   \n",
       "3  2015-01-06   23.57979393005371   23.83942422525078  23.218085117057225   \n",
       "4  2015-01-07  23.910430908203125  24.010288179106578  23.677428352078227   \n",
       "\n",
       "                 Open     Volume  \n",
       "0                AAPL       AAPL  \n",
       "1   24.71817633026032  212818400  \n",
       "2  24.030259507971074  257142000  \n",
       "3  23.641927502270494  263188400  \n",
       "4  23.788381627754344  160423600  "
      ]
     },
     "execution_count": 1,
     "metadata": {},
     "output_type": "execute_result"
    }
   ],
   "source": [
    "import pandas as pd\n",
    "import os\n",
    "\n",
    "# Load dataset from data folder\n",
    "data_path = \"../data/AAPL_raw.csv\"\n",
    "df = pd.read_csv(data_path)\n",
    "\n",
    "# Check basic info\n",
    "print(df.shape)\n",
    "print(df.info())\n",
    "df.head()\n"
   ]
  },
  {
   "cell_type": "code",
   "execution_count": 2,
   "id": "0f105918",
   "metadata": {},
   "outputs": [
    {
     "name": "stdout",
     "output_type": "stream",
     "text": [
      "Date      1\n",
      "Close     0\n",
      "High      0\n",
      "Low       0\n",
      "Open      0\n",
      "Volume    0\n",
      "dtype: int64\n"
     ]
    }
   ],
   "source": [
    "print(df.isnull().sum())\n"
   ]
  },
  {
   "cell_type": "code",
   "execution_count": 3,
   "id": "6e666161",
   "metadata": {},
   "outputs": [],
   "source": [
    "df = df.dropna()  # simple approach for now\n"
   ]
  },
  {
   "cell_type": "code",
   "execution_count": 4,
   "id": "cddcbddc",
   "metadata": {},
   "outputs": [],
   "source": [
    "df['Date'] = pd.to_datetime(df['Date'])\n",
    "df.sort_values('Date', inplace=True)\n",
    "df.reset_index(drop=True, inplace=True)\n"
   ]
  },
  {
   "cell_type": "code",
   "execution_count": 5,
   "id": "5b8688a0",
   "metadata": {},
   "outputs": [],
   "source": [
    "df['Close_Lag1'] = df['Close'].shift(1)\n",
    "df['Close_Lag7'] = df['Close'].shift(7)\n"
   ]
  },
  {
   "cell_type": "code",
   "execution_count": 6,
   "id": "666f051c",
   "metadata": {},
   "outputs": [],
   "source": [
    "df['MA7'] = df['Close'].rolling(window=7).mean()\n",
    "df['MA30'] = df['Close'].rolling(window=30).mean()\n",
    "df['Volatility7'] = df['Close'].rolling(window=7).std()\n",
    "df['Volatility30'] = df['Close'].rolling(window=30).std()\n"
   ]
  },
  {
   "cell_type": "code",
   "execution_count": 7,
   "id": "bd2eec53",
   "metadata": {},
   "outputs": [],
   "source": [
    "df['Year'] = df['Date'].dt.year\n",
    "df['Month'] = df['Date'].dt.month\n",
    "df['Day'] = df['Date'].dt.day\n",
    "df['Weekday'] = df['Date'].dt.weekday\n"
   ]
  },
  {
   "cell_type": "code",
   "execution_count": 8,
   "id": "37786ada",
   "metadata": {},
   "outputs": [],
   "source": [
    "df = df.dropna()  # drop rows with NaNs created by lag/rolling\n"
   ]
  },
  {
   "cell_type": "code",
   "execution_count": 9,
   "id": "9b451764",
   "metadata": {},
   "outputs": [
    {
     "name": "stdout",
     "output_type": "stream",
     "text": [
      "Cleaned data saved at ../data/AAPL_cleaned.csv, shape: (2487, 16)\n"
     ]
    }
   ],
   "source": [
    "cleaned_path = \"../data/AAPL_cleaned.csv\"\n",
    "df.to_csv(cleaned_path, index=False)\n",
    "print(f\"Cleaned data saved at {cleaned_path}, shape: {df.shape}\")\n"
   ]
  }
 ],
 "metadata": {
  "kernelspec": {
   "display_name": ".venv",
   "language": "python",
   "name": "python3"
  },
  "language_info": {
   "codemirror_mode": {
    "name": "ipython",
    "version": 3
   },
   "file_extension": ".py",
   "mimetype": "text/x-python",
   "name": "python",
   "nbconvert_exporter": "python",
   "pygments_lexer": "ipython3",
   "version": "3.11.0"
  }
 },
 "nbformat": 4,
 "nbformat_minor": 5
}
