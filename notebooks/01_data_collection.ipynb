{
 "cells": [
  {
   "cell_type": "code",
   "execution_count": 4,
   "id": "329a37b3",
   "metadata": {},
   "outputs": [
    {
     "name": "stderr",
     "output_type": "stream",
     "text": [
      "C:\\Users\\balam\\AppData\\Local\\Temp\\ipykernel_23856\\3226819759.py:17: FutureWarning: YF.download() has changed argument auto_adjust default to True\n",
      "  df = yf.download(stock_symbol, start=start_date, end=end_date)\n",
      "[*********************100%***********************]  1 of 1 completed"
     ]
    },
    {
     "name": "stdout",
     "output_type": "stream",
     "text": [
      "Data saved at ../data/AAPL_raw.csv, shape: (2516, 6)\n"
     ]
    },
    {
     "name": "stderr",
     "output_type": "stream",
     "text": [
      "\n"
     ]
    },
    {
     "data": {
      "text/html": [
       "<div>\n",
       "<style scoped>\n",
       "    .dataframe tbody tr th:only-of-type {\n",
       "        vertical-align: middle;\n",
       "    }\n",
       "\n",
       "    .dataframe tbody tr th {\n",
       "        vertical-align: top;\n",
       "    }\n",
       "\n",
       "    .dataframe thead tr th {\n",
       "        text-align: left;\n",
       "    }\n",
       "</style>\n",
       "<table border=\"1\" class=\"dataframe\">\n",
       "  <thead>\n",
       "    <tr>\n",
       "      <th>Price</th>\n",
       "      <th>Date</th>\n",
       "      <th>Close</th>\n",
       "      <th>High</th>\n",
       "      <th>Low</th>\n",
       "      <th>Open</th>\n",
       "      <th>Volume</th>\n",
       "    </tr>\n",
       "    <tr>\n",
       "      <th>Ticker</th>\n",
       "      <th></th>\n",
       "      <th>AAPL</th>\n",
       "      <th>AAPL</th>\n",
       "      <th>AAPL</th>\n",
       "      <th>AAPL</th>\n",
       "      <th>AAPL</th>\n",
       "    </tr>\n",
       "  </thead>\n",
       "  <tbody>\n",
       "    <tr>\n",
       "      <th>0</th>\n",
       "      <td>2015-01-02</td>\n",
       "      <td>24.261049</td>\n",
       "      <td>24.729272</td>\n",
       "      <td>23.821673</td>\n",
       "      <td>24.718176</td>\n",
       "      <td>212818400</td>\n",
       "    </tr>\n",
       "    <tr>\n",
       "      <th>1</th>\n",
       "      <td>2015-01-05</td>\n",
       "      <td>23.577570</td>\n",
       "      <td>24.110146</td>\n",
       "      <td>23.391169</td>\n",
       "      <td>24.030260</td>\n",
       "      <td>257142000</td>\n",
       "    </tr>\n",
       "    <tr>\n",
       "      <th>2</th>\n",
       "      <td>2015-01-06</td>\n",
       "      <td>23.579794</td>\n",
       "      <td>23.839424</td>\n",
       "      <td>23.218085</td>\n",
       "      <td>23.641928</td>\n",
       "      <td>263188400</td>\n",
       "    </tr>\n",
       "    <tr>\n",
       "      <th>3</th>\n",
       "      <td>2015-01-07</td>\n",
       "      <td>23.910431</td>\n",
       "      <td>24.010288</td>\n",
       "      <td>23.677428</td>\n",
       "      <td>23.788382</td>\n",
       "      <td>160423600</td>\n",
       "    </tr>\n",
       "    <tr>\n",
       "      <th>4</th>\n",
       "      <td>2015-01-08</td>\n",
       "      <td>24.829128</td>\n",
       "      <td>24.886824</td>\n",
       "      <td>24.121246</td>\n",
       "      <td>24.238858</td>\n",
       "      <td>237458000</td>\n",
       "    </tr>\n",
       "  </tbody>\n",
       "</table>\n",
       "</div>"
      ],
      "text/plain": [
       "Price        Date      Close       High        Low       Open     Volume\n",
       "Ticker                  AAPL       AAPL       AAPL       AAPL       AAPL\n",
       "0      2015-01-02  24.261049  24.729272  23.821673  24.718176  212818400\n",
       "1      2015-01-05  23.577570  24.110146  23.391169  24.030260  257142000\n",
       "2      2015-01-06  23.579794  23.839424  23.218085  23.641928  263188400\n",
       "3      2015-01-07  23.910431  24.010288  23.677428  23.788382  160423600\n",
       "4      2015-01-08  24.829128  24.886824  24.121246  24.238858  237458000"
      ]
     },
     "execution_count": 4,
     "metadata": {},
     "output_type": "execute_result"
    }
   ],
   "source": [
    "# Step 1: Imports\n",
    "import yfinance as yf\n",
    "import pandas as pd\n",
    "import os\n",
    "\n",
    "# Step 2: Ensure data folder exists in project root\n",
    "# '../data' moves one level up from notebooks/ to project root\n",
    "data_folder = \"../data\"\n",
    "os.makedirs(data_folder, exist_ok=True)\n",
    "\n",
    "# Step 3: Define stock symbol and date range\n",
    "stock_symbol = \"AAPL\"  # Apple Inc.\n",
    "start_date = \"2015-01-01\"\n",
    "end_date = \"2025-01-01\"\n",
    "\n",
    "# Step 4: Download historical stock data\n",
    "df = yf.download(stock_symbol, start=start_date, end=end_date)\n",
    "df.reset_index(inplace=True)  # Make Date a column\n",
    "\n",
    "# Step 5: Save raw CSV in project root 'data/' folder\n",
    "raw_csv_path = f\"{data_folder}/{stock_symbol}_raw.csv\"\n",
    "df.to_csv(raw_csv_path, index=False)\n",
    "print(f\"Data saved at {raw_csv_path}, shape: {df.shape}\")\n",
    "\n",
    "# Step 6: Preview first 5 rows\n",
    "df.head()\n"
   ]
  }
 ],
 "metadata": {
  "kernelspec": {
   "display_name": ".venv",
   "language": "python",
   "name": "python3"
  },
  "language_info": {
   "codemirror_mode": {
    "name": "ipython",
    "version": 3
   },
   "file_extension": ".py",
   "mimetype": "text/x-python",
   "name": "python",
   "nbconvert_exporter": "python",
   "pygments_lexer": "ipython3",
   "version": "3.11.0"
  }
 },
 "nbformat": 4,
 "nbformat_minor": 5
}
